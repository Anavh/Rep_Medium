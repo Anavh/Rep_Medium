{
 "cells": [
  {
   "cell_type": "markdown",
   "metadata": {
    "toc": true
   },
   "source": [
    "<h1>Table of Contents<span class=\"tocSkip\"></span></h1>\n",
    "<div class=\"toc\"><ul class=\"toc-item\"><li><ul class=\"toc-item\"><li><span><a href=\"#Adding-a-background-map-to-plots-\" data-toc-modified-id=\"Adding-a-background-map-to-plots--0.1\"><span class=\"toc-item-num\">0.1&nbsp;&nbsp;</span>Adding a background map to plots </a></span></li></ul></li><li><span><a href=\"#Convert-the-data-to-Web-Mercator\" data-toc-modified-id=\"Convert-the-data-to-Web-Mercator-1\"><span class=\"toc-item-num\">1&nbsp;&nbsp;</span>Convert the data to Web Mercator</a></span></li><li><span><a href=\"#Contextily-helper-function\" data-toc-modified-id=\"Contextily-helper-function-2\"><span class=\"toc-item-num\">2&nbsp;&nbsp;</span>Contextily helper function</a></span></li><li><span><a href=\"#Add-background-tiles-to-plot\" data-toc-modified-id=\"Add-background-tiles-to-plot-3\"><span class=\"toc-item-num\">3&nbsp;&nbsp;</span>Add background tiles to plot</a></span></li></ul></div>"
   ]
  },
  {
   "cell_type": "code",
   "execution_count": null,
   "metadata": {},
   "outputs": [],
   "source": [
    "%matplotlib inline"
   ]
  },
  {
   "cell_type": "markdown",
   "metadata": {},
   "source": [
    "\n",
    "Adding a background map to plots \n",
    "--------------------------------\n",
    "\n",
    "This example shows how you can add a background basemap to plots created\n",
    "with the geopandas ``.plot()`` method. This makes use of the\n",
    "`contextily <https://github.com/darribas/contextily>`__ package to retrieve\n",
    "web map tiles from several sources (OpenStreetMap, Stamen).\n",
    "\n",
    "\n"
   ]
  },
  {
   "cell_type": "code",
   "execution_count": null,
   "metadata": {},
   "outputs": [],
   "source": [
    "# sphinx_gallery_thumbnail_number = 3\n",
    "import geopandas"
   ]
  },
  {
   "cell_type": "markdown",
   "metadata": {},
   "source": [
    "Let's use the NYC borough boundary data that is available in geopandas\n",
    "datasets. Plotting this gives the following result:\n",
    "\n"
   ]
  },
  {
   "cell_type": "code",
   "execution_count": null,
   "metadata": {},
   "outputs": [],
   "source": [
    "df = geopandas.read_file(geopandas.datasets.get_path('nybb'))\n",
    "ax = df.plot(figsize=(10, 10), alpha=0.5, edgecolor='k')"
   ]
  },
  {
   "cell_type": "markdown",
   "metadata": {},
   "source": [
    "Convert the data to Web Mercator\n",
    "================================\n",
    "\n",
    "Web map tiles are typically provided in\n",
    "`Web Mercator <https://en.wikipedia.org/wiki/Web_Mercator>`__\n",
    "(`EPSG 3857 <https://epsg.io/3857>`__), so we need to make sure to convert\n",
    "our data first to the same CRS to combine our polygons and background tiles\n",
    "in the same map:\n",
    "\n"
   ]
  },
  {
   "cell_type": "code",
   "execution_count": null,
   "metadata": {},
   "outputs": [],
   "source": [
    "df = df.to_crs(epsg=3857)"
   ]
  },
  {
   "cell_type": "markdown",
   "metadata": {},
   "source": [
    "Contextily helper function\n",
    "==========================\n",
    "\n",
    "We define a small helper function that uses\n",
    "`contextily <https://github.com/darribas/contextily>`__ to add a map\n",
    "as background to an existing plot: \n",
    "\n"
   ]
  },
  {
   "cell_type": "code",
   "execution_count": null,
   "metadata": {},
   "outputs": [],
   "source": [
    "import contextily as ctx\n",
    "\n",
    "def add_basemap(ax, zoom, url='http://tile.stamen.com/terrain/tileZ/tileX/tileY.png'):\n",
    "    xmin, xmax, ymin, ymax = ax.axis()\n",
    "    basemap, extent = ctx.bounds2img(xmin, ymin, xmax, ymax, zoom=zoom, url=url)\n",
    "    ax.imshow(basemap, extent=extent, interpolation='bilinear')\n",
    "    # restore original x/y limits\n",
    "    ax.axis((xmin, xmax, ymin, ymax))"
   ]
  },
  {
   "cell_type": "markdown",
   "metadata": {},
   "source": [
    "Add background tiles to plot\n",
    "============================\n",
    "\n",
    "Now we can use the above function to easily add a background map to our\n",
    "plot. The `zoom` keyword is required and let's you specify the detail of the\n",
    "map tiles (be careful to not specify a too high `zoom` level, as this can\n",
    "result in a large download):\n",
    "\n"
   ]
  },
  {
   "cell_type": "code",
   "execution_count": null,
   "metadata": {},
   "outputs": [],
   "source": [
    "ax = df.plot(figsize=(10, 10), alpha=0.5, edgecolor='k')\n",
    "add_basemap(ax, zoom=10)"
   ]
  },
  {
   "cell_type": "markdown",
   "metadata": {},
   "source": [
    "By default, contextily uses the Stamen Terrain style. We can specify a\n",
    "different style using ``ctx.sources``:\n",
    "\n"
   ]
  },
  {
   "cell_type": "code",
   "execution_count": null,
   "metadata": {},
   "outputs": [],
   "source": [
    "ax = df.plot(figsize=(10, 10), alpha=0.5, edgecolor='k')\n",
    "add_basemap(ax, zoom=11, url=ctx.sources.ST_TONER_LITE)\n",
    "ax.set_axis_off()"
   ]
  }
 ],
 "metadata": {
  "kernelspec": {
   "display_name": "Python 3",
   "language": "python",
   "name": "python3"
  },
  "language_info": {
   "codemirror_mode": {
    "name": "ipython",
    "version": 3
   },
   "file_extension": ".py",
   "mimetype": "text/x-python",
   "name": "python",
   "nbconvert_exporter": "python",
   "pygments_lexer": "ipython3",
   "version": "3.6.5"
  },
  "toc": {
   "base_numbering": 1,
   "nav_menu": {},
   "number_sections": true,
   "sideBar": true,
   "skip_h1_title": false,
   "title_cell": "Table of Contents",
   "title_sidebar": "Contents",
   "toc_cell": true,
   "toc_position": {},
   "toc_section_display": true,
   "toc_window_display": true
  },
  "varInspector": {
   "cols": {
    "lenName": 16,
    "lenType": 16,
    "lenVar": 40
   },
   "kernels_config": {
    "python": {
     "delete_cmd_postfix": "",
     "delete_cmd_prefix": "del ",
     "library": "var_list.py",
     "varRefreshCmd": "print(var_dic_list())"
    },
    "r": {
     "delete_cmd_postfix": ") ",
     "delete_cmd_prefix": "rm(",
     "library": "var_list.r",
     "varRefreshCmd": "cat(var_dic_list()) "
    }
   },
   "types_to_exclude": [
    "module",
    "function",
    "builtin_function_or_method",
    "instance",
    "_Feature"
   ],
   "window_display": false
  }
 },
 "nbformat": 4,
 "nbformat_minor": 1
}
