{
 "cells": [
  {
   "cell_type": "markdown",
   "metadata": {
    "toc": true
   },
   "source": [
    "<h1>Table of Contents<span class=\"tocSkip\"></span></h1>\n",
    "<div class=\"toc\"><ul class=\"toc-item\"><li><span><a href=\"#URLs\" data-toc-modified-id=\"URLs-1\"><span class=\"toc-item-num\">1&nbsp;&nbsp;</span>URLs</a></span></li><li><span><a href=\"#Request-&amp;-Response\" data-toc-modified-id=\"Request-&amp;-Response-2\"><span class=\"toc-item-num\">2&nbsp;&nbsp;</span>Request &amp; Response</a></span></li><li><span><a href=\"#Parse-HTML-content\" data-toc-modified-id=\"Parse-HTML-content-3\"><span class=\"toc-item-num\">3&nbsp;&nbsp;</span>Parse HTML content</a></span></li><li><span><a href=\"#Title-of-HTML-content\" data-toc-modified-id=\"Title-of-HTML-content-4\"><span class=\"toc-item-num\">4&nbsp;&nbsp;</span>Title of HTML content</a></span></li><li><span><a href=\"#Find-All-Tables\" data-toc-modified-id=\"Find-All-Tables-5\"><span class=\"toc-item-num\">5&nbsp;&nbsp;</span>Find All Tables</a></span></li><li><span><a href=\"#Find-Right-Table-to-scrap\" data-toc-modified-id=\"Find-Right-Table-to-scrap-6\"><span class=\"toc-item-num\">6&nbsp;&nbsp;</span>Find Right Table to scrap</a></span></li><li><span><a href=\"#Number-of-Columns\" data-toc-modified-id=\"Number-of-Columns-7\"><span class=\"toc-item-num\">7&nbsp;&nbsp;</span>Number of Columns</a></span></li><li><span><a href=\"#Get-the-Rows\" data-toc-modified-id=\"Get-the-Rows-8\"><span class=\"toc-item-num\">8&nbsp;&nbsp;</span>Get the Rows</a></span></li><li><span><a href=\"#Get-Table-Header-Attributes\" data-toc-modified-id=\"Get-Table-Header-Attributes-9\"><span class=\"toc-item-num\">9&nbsp;&nbsp;</span>Get Table Header Attributes</a></span></li><li><span><a href=\"#Get-Table-Data\" data-toc-modified-id=\"Get-Table-Data-10\"><span class=\"toc-item-num\">10&nbsp;&nbsp;</span>Get Table Data</a></span><ul class=\"toc-item\"><li><span><a href=\"#Data-Analysis\" data-toc-modified-id=\"Data-Analysis-10.1\"><span class=\"toc-item-num\">10.1&nbsp;&nbsp;</span>Data Analysis</a></span></li></ul></li></ul></div>"
   ]
  },
  {
   "cell_type": "code",
   "execution_count": 2,
   "metadata": {},
   "outputs": [],
   "source": [
    "# Requests\n",
    "import urllib.request #\n",
    "import requests\n",
    "from requests import get\n",
    "from requests.exceptions import RequestException\n",
    "from contextlib import closing\n",
    "\n",
    "# for xml & html scrapping \n",
    "import lxml.html as lh\n",
    "from bs4 import BeautifulSoup\n",
    "\n",
    "# for table analysis\n",
    "import pandas as pd\n",
    "\n",
    "# write to csv\n",
    "import csv\n",
    "\n",
    "# Time\n",
    "import time"
   ]
  },
  {
   "cell_type": "markdown",
   "metadata": {},
   "source": [
    "## URLs"
   ]
  },
  {
   "cell_type": "code",
   "execution_count": 3,
   "metadata": {},
   "outputs": [],
   "source": [
    "url1 = \"https://en.wikipedia.org/wiki/List_of_countries_and_dependencies_by_population\""
   ]
  },
  {
   "cell_type": "markdown",
   "metadata": {},
   "source": [
    "## Request & Response"
   ]
  },
  {
   "cell_type": "code",
   "execution_count": 4,
   "metadata": {},
   "outputs": [
    {
     "data": {
      "text/plain": [
       "<Response [200]>"
      ]
     },
     "execution_count": 4,
     "metadata": {},
     "output_type": "execute_result"
    }
   ],
   "source": [
    "# get the web content\n",
    "# If the access was successful, you should see the following output:\n",
    "response = requests.get(url1, timeout=10)\n",
    "response"
   ]
  },
  {
   "cell_type": "markdown",
   "metadata": {},
   "source": [
    "## Parse HTML content"
   ]
  },
  {
   "cell_type": "code",
   "execution_count": 5,
   "metadata": {},
   "outputs": [],
   "source": [
    "# parse response content to html\n",
    "soup = BeautifulSoup(response.content, 'html.parser')"
   ]
  },
  {
   "cell_type": "code",
   "execution_count": 6,
   "metadata": {},
   "outputs": [],
   "source": [
    "# Prettify the BeautifulSoup object: pretty_soup\n",
    "pretty_soup = soup.prettify()"
   ]
  },
  {
   "cell_type": "markdown",
   "metadata": {},
   "source": [
    "## Title of HTML content"
   ]
  },
  {
   "cell_type": "code",
   "execution_count": 7,
   "metadata": {},
   "outputs": [
    {
     "data": {
      "text/plain": [
       "'List of countries and dependencies by population - Wikipedia'"
      ]
     },
     "execution_count": 7,
     "metadata": {},
     "output_type": "execute_result"
    }
   ],
   "source": [
    "# title\n",
    "soup.title.string"
   ]
  },
  {
   "cell_type": "markdown",
   "metadata": {},
   "source": [
    "## Find All Tables"
   ]
  },
  {
   "cell_type": "code",
   "execution_count": 8,
   "metadata": {},
   "outputs": [],
   "source": [
    "# find all the tables in the html\n",
    "all_tables=soup.find_all('table')"
   ]
  },
  {
   "cell_type": "markdown",
   "metadata": {},
   "source": [
    "## Find Right Table to scrap"
   ]
  },
  {
   "cell_type": "code",
   "execution_count": 9,
   "metadata": {},
   "outputs": [],
   "source": [
    "right_table=soup.find('table', {\"class\":'wikitable sortable'})"
   ]
  },
  {
   "cell_type": "markdown",
   "metadata": {},
   "source": [
    "## Number of Columns"
   ]
  },
  {
   "cell_type": "code",
   "execution_count": 10,
   "metadata": {},
   "outputs": [
    {
     "data": {
      "text/plain": [
       "6"
      ]
     },
     "execution_count": 10,
     "metadata": {},
     "output_type": "execute_result"
    }
   ],
   "source": [
    "for row in right_table.findAll(\"tr\"):\n",
    "    cells = row.findAll('td')\n",
    "\n",
    "len(cells)"
   ]
  },
  {
   "cell_type": "markdown",
   "metadata": {},
   "source": [
    "## Get the Rows"
   ]
  },
  {
   "cell_type": "code",
   "execution_count": 11,
   "metadata": {},
   "outputs": [
    {
     "data": {
      "text/plain": [
       "241"
      ]
     },
     "execution_count": 11,
     "metadata": {},
     "output_type": "execute_result"
    }
   ],
   "source": [
    "# number of rows including header\n",
    "rows = right_table.findAll(\"tr\")\n",
    "len(rows)"
   ]
  },
  {
   "cell_type": "markdown",
   "metadata": {},
   "source": [
    "## Get Table Header Attributes"
   ]
  },
  {
   "cell_type": "code",
   "execution_count": 12,
   "metadata": {},
   "outputs": [
    {
     "name": "stdout",
     "output_type": "stream",
     "text": [
      "['Rank', 'Country(or dependent territory)', 'Population', 'Date', '% of worldpopulation', 'Source']\n",
      "------------\n",
      "6\n"
     ]
    }
   ],
   "source": [
    "# header attributes of the table\n",
    "header = [th.text.rstrip() for th in rows[0].find_all('th')]\n",
    "print(header)\n",
    "print('------------')\n",
    "print(len(header))"
   ]
  },
  {
   "cell_type": "markdown",
   "metadata": {},
   "source": [
    "## Get Table Data"
   ]
  },
  {
   "cell_type": "markdown",
   "metadata": {},
   "source": [
    "### Data Analysis"
   ]
  },
  {
   "cell_type": "code",
   "execution_count": 14,
   "metadata": {},
   "outputs": [],
   "source": [
    "lst_data = []\n",
    "for row in rows[1:]:\n",
    "            data = [d.text.rstrip() for d in row.find_all('td')]\n",
    "            lst_data.append(data)"
   ]
  },
  {
   "cell_type": "code",
   "execution_count": 15,
   "metadata": {},
   "outputs": [
    {
     "data": {
      "text/plain": [
       "[['1',\n",
       "  ' China[Note 2]',\n",
       "  '1,397,200,000',\n",
       "  'May 5, 2019',\n",
       "  '18.1%',\n",
       "  'Official population clock'],\n",
       " ['2',\n",
       "  ' India[Note 3]',\n",
       "  '1,346,800,000',\n",
       "  'May 5, 2019',\n",
       "  '17.5%',\n",
       "  'Official population clock'],\n",
       " ['3',\n",
       "  ' United States[Note 4]',\n",
       "  '329,147,000',\n",
       "  'May 5, 2019',\n",
       "  '4.27%',\n",
       "  'Official population clock']]"
      ]
     },
     "execution_count": 15,
     "metadata": {},
     "output_type": "execute_result"
    }
   ],
   "source": [
    "# sample records\n",
    "lst_data[0:3]"
   ]
  },
  {
   "cell_type": "code",
   "execution_count": 43,
   "metadata": {},
   "outputs": [
    {
     "data": {
      "text/plain": [
       "6"
      ]
     },
     "execution_count": 43,
     "metadata": {},
     "output_type": "execute_result"
    }
   ],
   "source": [
    "# length of each record\n",
    "len(lst_data[0])"
   ]
  },
  {
   "cell_type": "code",
   "execution_count": 20,
   "metadata": {},
   "outputs": [
    {
     "name": "stdout",
     "output_type": "stream",
     "text": [
      "Number of row : 241\n",
      "----------------\n",
      "<tr>\n",
      "<td>1\n",
      "</td>\n",
      "<td align=\"left\"><span class=\"flagicon\" style=\"display:inline-block;width:25px;\"><img alt=\"\" class=\"thumbborder\" data-file-height=\"600\" data-file-width=\"900\" decoding=\"async\" height=\"15\" src=\"//upload.wikimedia.org/wikipedia/commons/thumb/f/fa/Flag_of_the_People%27s_Republic_of_China.svg/23px-Flag_of_the_People%27s_Republic_of_China.svg.png\" srcset=\"//upload.wikimedia.org/wikipedia/commons/thumb/f/fa/Flag_of_the_People%27s_Republic_of_China.svg/35px-Flag_of_the_People%27s_Republic_of_China.svg.png 1.5x, //upload.wikimedia.org/wikipedia/commons/thumb/f/fa/Flag_of_the_People%27s_Republic_of_China.svg/45px-Flag_of_the_People%27s_Republic_of_China.svg.png 2x\" width=\"23\"/></span> <a href=\"/wiki/China\" title=\"China\">China</a><sup class=\"reference\" id=\"cite_ref-4\"><a href=\"#cite_note-4\">[Note 2]</a></sup>\n",
      "</td>\n",
      "<td>1,397,200,000</td>\n",
      "<td>May 5, 2019</td>\n",
      "<td>18.1%\n",
      "</td>\n",
      "<td align=\"left\"><a class=\"external text\" href=\"http://data.stats.gov.cn/\" rel=\"nofollow\">Official population clock</a>\n",
      "</td></tr>\n",
      "----------------\n",
      "Second Attribute is has link reference\n",
      "----------------\n",
      "[]\n",
      "----------------\n",
      "China\n"
     ]
    }
   ],
   "source": [
    "# html of each table record\n",
    "\n",
    "list_row = []\n",
    "for row in right_table.findAll(\"tr\"):\n",
    "    list_row.append(row)\n",
    "\n",
    "    \n",
    "print('Number of row :',len(list_row))\n",
    "print('----------------')\n",
    "print(list_row[1])\n",
    "print('----------------')\n",
    "print('Second Attribute is has link reference')\n",
    "print('----------------')\n",
    "print(list_row[1].findAll('th'))\n",
    "print('----------------')\n",
    "print(list_row[1].find('a').text)"
   ]
  },
  {
   "cell_type": "code",
   "execution_count": 40,
   "metadata": {},
   "outputs": [],
   "source": [
    "#Generate lists\n",
    "c1=[]\n",
    "c2=[]\n",
    "c3=[]\n",
    "c4=[]\n",
    "c5=[]\n",
    "c6=[]\n",
    "\n",
    "for row in right_table.findAll(\"tr\"):\n",
    "    cells = row.findAll('td')\n",
    "    if len(cells)==6: #Only extract table body not heading\n",
    "        c1.append(cells[0].find(text=True))\n",
    "        c2.append(cells[1].find('a').text)  # fetch the text of the url in td tag. \n",
    "        c3.append(cells[2].find(text=True))\n",
    "        c4.append(cells[3].find(text=True))\n",
    "        c5.append(cells[4].find(text=True))\n",
    "        c6.append(cells[5].find(text=True))        "
   ]
  },
  {
   "cell_type": "code",
   "execution_count": 37,
   "metadata": {},
   "outputs": [
    {
     "data": {
      "text/plain": [
       "{'Rank': 0,\n",
       " 'Country(or dependent territory)': 0,\n",
       " 'Population': 0,\n",
       " 'Date': 0,\n",
       " '% of worldpopulation': 0,\n",
       " 'Source': 0}"
      ]
     },
     "execution_count": 37,
     "metadata": {},
     "output_type": "execute_result"
    }
   ],
   "source": [
    "# create a dictionary\n",
    "d = dict([(x,0) for x in header])\n",
    "d"
   ]
  },
  {
   "cell_type": "code",
   "execution_count": 38,
   "metadata": {},
   "outputs": [],
   "source": [
    "# append dictionary with corresponding data list.\n",
    "d['Rank'] = c1\n",
    "d['Country(or dependent territory)']= c2\n",
    "d['Population']=c3\n",
    "d['Date']=c4\n",
    "d['% of worldpopulation']=c5\n",
    "d['Source']=c6"
   ]
  },
  {
   "cell_type": "code",
   "execution_count": 39,
   "metadata": {},
   "outputs": [
    {
     "data": {
      "text/html": [
       "<div>\n",
       "<style scoped>\n",
       "    .dataframe tbody tr th:only-of-type {\n",
       "        vertical-align: middle;\n",
       "    }\n",
       "\n",
       "    .dataframe tbody tr th {\n",
       "        vertical-align: top;\n",
       "    }\n",
       "\n",
       "    .dataframe thead th {\n",
       "        text-align: right;\n",
       "    }\n",
       "</style>\n",
       "<table border=\"1\" class=\"dataframe\">\n",
       "  <thead>\n",
       "    <tr style=\"text-align: right;\">\n",
       "      <th></th>\n",
       "      <th>Rank</th>\n",
       "      <th>Country(or dependent territory)</th>\n",
       "      <th>Population</th>\n",
       "      <th>Date</th>\n",
       "      <th>% of worldpopulation</th>\n",
       "      <th>Source</th>\n",
       "    </tr>\n",
       "  </thead>\n",
       "  <tbody>\n",
       "    <tr>\n",
       "      <th>0</th>\n",
       "      <td>1</td>\n",
       "      <td>China</td>\n",
       "      <td>1,397,200,000</td>\n",
       "      <td>May 5, 2019</td>\n",
       "      <td>18.1%</td>\n",
       "      <td>Official population clock</td>\n",
       "    </tr>\n",
       "    <tr>\n",
       "      <th>1</th>\n",
       "      <td>2</td>\n",
       "      <td>India</td>\n",
       "      <td>1,346,800,000</td>\n",
       "      <td>May 5, 2019</td>\n",
       "      <td>17.5%</td>\n",
       "      <td>Official population clock</td>\n",
       "    </tr>\n",
       "    <tr>\n",
       "      <th>2</th>\n",
       "      <td>3</td>\n",
       "      <td>United States</td>\n",
       "      <td>329,147,000</td>\n",
       "      <td>May 5, 2019</td>\n",
       "      <td>4.27%</td>\n",
       "      <td>Official population clock</td>\n",
       "    </tr>\n",
       "    <tr>\n",
       "      <th>3</th>\n",
       "      <td>4</td>\n",
       "      <td>Indonesia</td>\n",
       "      <td>268,074,600</td>\n",
       "      <td>July 1, 2019</td>\n",
       "      <td>3.48%</td>\n",
       "      <td>Official annual projection</td>\n",
       "    </tr>\n",
       "    <tr>\n",
       "      <th>4</th>\n",
       "      <td>5</td>\n",
       "      <td>Brazil</td>\n",
       "      <td>209,863,000</td>\n",
       "      <td>May 5, 2019</td>\n",
       "      <td>2.72%</td>\n",
       "      <td>Official population clock</td>\n",
       "    </tr>\n",
       "  </tbody>\n",
       "</table>\n",
       "</div>"
      ],
      "text/plain": [
       "  Rank Country(or dependent territory)     Population           Date  \\\n",
       "0   1\n",
       "                           China  1,397,200,000    May 5, 2019   \n",
       "1   2\n",
       "                           India  1,346,800,000    May 5, 2019   \n",
       "2   3\n",
       "                   United States    329,147,000    May 5, 2019   \n",
       "3   4\n",
       "                       Indonesia   268,074,600\n",
       "  July 1, 2019\n",
       "   \n",
       "4   5\n",
       "                          Brazil    209,863,000    May 5, 2019   \n",
       "\n",
       "  % of worldpopulation                      Source  \n",
       "0               18.1%\n",
       "   Official population clock  \n",
       "1               17.5%\n",
       "   Official population clock  \n",
       "2               4.27%\n",
       "   Official population clock  \n",
       "3               3.48%\n",
       "  Official annual projection  \n",
       "4               2.72%\n",
       "   Official population clock  "
      ]
     },
     "execution_count": 39,
     "metadata": {},
     "output_type": "execute_result"
    }
   ],
   "source": [
    "# convert dict to DataFrame\n",
    "df_table = pd.DataFrame(d)\n",
    "\n",
    "# Top 5 records\n",
    "df_table.head(5)"
   ]
  },
  {
   "cell_type": "code",
   "execution_count": 41,
   "metadata": {},
   "outputs": [
    {
     "data": {
      "text/html": [
       "<div>\n",
       "<style scoped>\n",
       "    .dataframe tbody tr th:only-of-type {\n",
       "        vertical-align: middle;\n",
       "    }\n",
       "\n",
       "    .dataframe tbody tr th {\n",
       "        vertical-align: top;\n",
       "    }\n",
       "\n",
       "    .dataframe thead th {\n",
       "        text-align: right;\n",
       "    }\n",
       "</style>\n",
       "<table border=\"1\" class=\"dataframe\">\n",
       "  <thead>\n",
       "    <tr style=\"text-align: right;\">\n",
       "      <th></th>\n",
       "      <th>Rank</th>\n",
       "      <th>Country(or dependent territory)</th>\n",
       "      <th>Population</th>\n",
       "      <th>Date</th>\n",
       "      <th>% of worldpopulation</th>\n",
       "      <th>Source</th>\n",
       "    </tr>\n",
       "  </thead>\n",
       "  <tbody>\n",
       "    <tr>\n",
       "      <th>235</th>\n",
       "      <td>–</td>\n",
       "      <td>Niue</td>\n",
       "      <td>1,520</td>\n",
       "      <td>July 1, 2018</td>\n",
       "      <td>0.000020%</td>\n",
       "      <td>Official annual estimate</td>\n",
       "    </tr>\n",
       "    <tr>\n",
       "      <th>236</th>\n",
       "      <td>–</td>\n",
       "      <td>Tokelau</td>\n",
       "      <td>1,400</td>\n",
       "      <td>July 1, 2018</td>\n",
       "      <td>0.000018%</td>\n",
       "      <td>Official annual estimate</td>\n",
       "    </tr>\n",
       "    <tr>\n",
       "      <th>237</th>\n",
       "      <td>195</td>\n",
       "      <td>Vatican City</td>\n",
       "      <td>800</td>\n",
       "      <td>January 1, 2014</td>\n",
       "      <td>0.000010%</td>\n",
       "      <td>Official estimate</td>\n",
       "    </tr>\n",
       "    <tr>\n",
       "      <th>238</th>\n",
       "      <td>–</td>\n",
       "      <td>Cocos (Keeling) Islands</td>\n",
       "      <td>538</td>\n",
       "      <td>June 30, 2018</td>\n",
       "      <td>0.0000070%</td>\n",
       "      <td>Official estimate</td>\n",
       "    </tr>\n",
       "    <tr>\n",
       "      <th>239</th>\n",
       "      <td>–</td>\n",
       "      <td>Pitcairn Islands</td>\n",
       "      <td>50</td>\n",
       "      <td>January 1, 2019</td>\n",
       "      <td>0.00000065%</td>\n",
       "      <td>Official estimate</td>\n",
       "    </tr>\n",
       "  </tbody>\n",
       "</table>\n",
       "</div>"
      ],
      "text/plain": [
       "     Rank Country(or dependent territory) Population              Date  \\\n",
       "235    –\n",
       "                            Niue     1,520\n",
       "     July 1, 2018\n",
       "   \n",
       "236    –\n",
       "                         Tokelau     1,400\n",
       "     July 1, 2018\n",
       "   \n",
       "237  195\n",
       "                    Vatican City       800\n",
       "  January 1, 2014\n",
       "   \n",
       "238    –\n",
       "         Cocos (Keeling) Islands       538\n",
       "    June 30, 2018\n",
       "   \n",
       "239    –\n",
       "                Pitcairn Islands        50\n",
       "  January 1, 2019\n",
       "   \n",
       "\n",
       "    % of worldpopulation                    Source  \n",
       "235           0.000020%\n",
       "  Official annual estimate  \n",
       "236           0.000018%\n",
       "  Official annual estimate  \n",
       "237           0.000010%\n",
       "         Official estimate  \n",
       "238          0.0000070%\n",
       "         Official estimate  \n",
       "239         0.00000065%\n",
       "         Official estimate  "
      ]
     },
     "execution_count": 41,
     "metadata": {},
     "output_type": "execute_result"
    }
   ],
   "source": [
    "# Last 5 records\n",
    "df_table.tail(5)"
   ]
  },
  {
   "cell_type": "code",
   "execution_count": null,
   "metadata": {},
   "outputs": [],
   "source": []
  }
 ],
 "metadata": {
  "kernelspec": {
   "display_name": "Python 3",
   "language": "python",
   "name": "python3"
  },
  "language_info": {
   "codemirror_mode": {
    "name": "ipython",
    "version": 3
   },
   "file_extension": ".py",
   "mimetype": "text/x-python",
   "name": "python",
   "nbconvert_exporter": "python",
   "pygments_lexer": "ipython3",
   "version": "3.6.5"
  },
  "toc": {
   "base_numbering": 1,
   "nav_menu": {},
   "number_sections": true,
   "sideBar": true,
   "skip_h1_title": false,
   "title_cell": "Table of Contents",
   "title_sidebar": "Contents",
   "toc_cell": true,
   "toc_position": {},
   "toc_section_display": true,
   "toc_window_display": true
  },
  "varInspector": {
   "cols": {
    "lenName": 16,
    "lenType": 16,
    "lenVar": 40
   },
   "kernels_config": {
    "python": {
     "delete_cmd_postfix": "",
     "delete_cmd_prefix": "del ",
     "library": "var_list.py",
     "varRefreshCmd": "print(var_dic_list())"
    },
    "r": {
     "delete_cmd_postfix": ") ",
     "delete_cmd_prefix": "rm(",
     "library": "var_list.r",
     "varRefreshCmd": "cat(var_dic_list()) "
    }
   },
   "types_to_exclude": [
    "module",
    "function",
    "builtin_function_or_method",
    "instance",
    "_Feature"
   ],
   "window_display": false
  }
 },
 "nbformat": 4,
 "nbformat_minor": 2
}
